{
 "cells": [
  {
   "cell_type": "markdown",
   "metadata": {},
   "source": [
    "#### Remove Duplicates from Sorted Array"
   ]
  },
  {
   "cell_type": "code",
   "execution_count": 233,
   "metadata": {},
   "outputs": [
    {
     "name": "stdout",
     "output_type": "stream",
     "text": [
      "[9, 10, 12, 13, 14, 12, 12, 13, 13, 14]\n",
      "[1, 2, 2]\n"
     ]
    }
   ],
   "source": [
    "def remove_duplicates_from_sorted_array(nums: List[int]):\n",
    "    \"\"\"\n",
    "        Given an integer array nums sorted in non-decreasing order, \n",
    "        remove the duplicates in-place such that each unique element appears only once. \n",
    "        The relative order of the elements should be kept the same. Then return the number of unique elements in nums.\n",
    "\n",
    "        Consider the number of unique elements of nums to be k, to get accepted, you need to do the following things:\n",
    "\n",
    "        Change the array nums such that the first k elements of nums contain the unique elements in the order they were present in nums initially. \n",
    "        The remaining elements of nums are not important as well as the size of nums.\n",
    "        Return k.\n",
    "\n",
    "        Input: nums = [1,1,2]\n",
    "        Output: 2, nums = [1,2,_]\n",
    "        Explanation: Your function should return k = 2, with the first two elements of nums being 1 and 2 respectively.\n",
    "        It does not matter what you leave beyond the returned k (hence they are underscores).\n",
    "\n",
    "        Input: nums = [0,0,1,1,1,2,2,3,3,4]\n",
    "        Output: 5, nums = [0,1,2,3,4,_,_,_,_,_]\n",
    "        Explanation: Your function should return k = 5, with the first five elements of nums being 0, 1, 2, 3, and 4 respectively.\n",
    "        It does not matter what you leave beyond the returned k (hence they are underscores).\n",
    "\n",
    "\n",
    "        Constraints:\n",
    "        1 <= nums.length <= 3 * 104\n",
    "        -100 <= nums[i] <= 100\n",
    "        nums is sorted in non-decreasing order.\n",
    "    \"\"\"\n",
    "    if not nums:\n",
    "        return 0\n",
    "\n",
    "    # count of unique numbers\n",
    "    k = 1\n",
    "\n",
    "    # iterate through array starting at 1\n",
    "    for i in range(1, len(nums)):\n",
    "        \n",
    "        # compare current number is not same as previos\n",
    "        if nums[i] != nums[i - 1]:\n",
    "            # if number is different, store number at current at the position of k\n",
    "            nums[k] = nums[i]\n",
    "\n",
    "            # update k to increment count of unique element\n",
    "            k += 1\n",
    "    \n",
    "    return nums\n",
    "\n",
    "ans1 = remove_duplicates_from_sorted_array([9,9,10,10,10,12,12,13,13,14])\n",
    "print(ans1)\n",
    "ans2 = remove_duplicates_from_sorted_array([1, 1, 2])\n",
    "print(ans2)"
   ]
  },
  {
   "cell_type": "markdown",
   "metadata": {},
   "source": [
    "#### Best Time to Buy and Sell Stock II"
   ]
  },
  {
   "cell_type": "code",
   "execution_count": 238,
   "metadata": {},
   "outputs": [
    {
     "name": "stdout",
     "output_type": "stream",
     "text": [
      "7\n",
      "4\n",
      "0\n"
     ]
    }
   ],
   "source": [
    "def maxProfit(prices: List[int]) -> int:\n",
    "    \"\"\"\n",
    "        You are given an integer array prices where prices[i] is the price of a given stock on the ith day.\n",
    "        On each day, you may decide to buy and/or sell the stock. \n",
    "        You can only hold at most one share of the stock at any time. However, you can buy it then immediately sell it on the same day.\n",
    "\n",
    "        Find and return the maximum profit you can achieve.\n",
    "\n",
    "        Example 1:\n",
    "\n",
    "        Input: prices = [7,1,5,3,6,4]\n",
    "        Output: 7\n",
    "        Explanation: Buy on day 2 (price = 1) and sell on day 3 (price = 5), profit = 5-1 = 4.\n",
    "        Then buy on day 4 (price = 3) and sell on day 5 (price = 6), profit = 6-3 = 3.\n",
    "        Total profit is 4 + 3 = 7.\n",
    "        Example 2:\n",
    "\n",
    "        Input: prices = [1,2,3,4,5]\n",
    "        Output: 4\n",
    "        Explanation: Buy on day 1 (price = 1) and sell on day 5 (price = 5), profit = 5-1 = 4.\n",
    "        Total profit is 4.\n",
    "        Example 3:\n",
    "\n",
    "        Input: prices = [7,6,4,3,1]\n",
    "        Output: 0\n",
    "        Explanation: There is no way to make a positive profit, so we never buy the stock to achieve the maximum profit of 0.\n",
    "\n",
    "    \"\"\"\n",
    "    max_profit = 0\n",
    "        \n",
    "    for i in range(1, len(prices)):\n",
    "        # If the current price is greater than the previous day's price,\n",
    "        # we can buy the stock on the previous day and sell it on the current day to make a profit.\n",
    "        if prices[i] > prices[i - 1]:\n",
    "            max_profit += prices[i] - prices[i - 1]\n",
    "    \n",
    "    return max_profit\n",
    "\n",
    "\n",
    "print(maxProfit([7,1,5,3,6,4]))\n",
    "print(maxProfit([1,2,3,4,5]))\n",
    "print(maxProfit([7,6,4,3,1]))\n"
   ]
  },
  {
   "cell_type": "markdown",
   "metadata": {},
   "source": []
  }
 ],
 "metadata": {
  "kernelspec": {
   "display_name": "dsa",
   "language": "python",
   "name": "python3"
  },
  "language_info": {
   "codemirror_mode": {
    "name": "ipython",
    "version": 3
   },
   "file_extension": ".py",
   "mimetype": "text/x-python",
   "name": "python",
   "nbconvert_exporter": "python",
   "pygments_lexer": "ipython3",
   "version": "3.11.4"
  },
  "orig_nbformat": 4
 },
 "nbformat": 4,
 "nbformat_minor": 2
}
